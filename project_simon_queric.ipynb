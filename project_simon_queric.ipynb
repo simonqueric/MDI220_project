{
 "cells": [
  {
   "cell_type": "markdown",
   "id": "0608e4d8",
   "metadata": {},
   "source": [
    "## Statistics project\n",
    "\n",
    "Simon Queric\n",
    "\n",
    "deadline : 31/10/2022"
   ]
  },
  {
   "cell_type": "code",
   "execution_count": 2,
   "id": "e953b509",
   "metadata": {},
   "outputs": [],
   "source": [
    "import datetime\n",
    "from IPython.display import display, Math\n",
    "\n",
    "# We import useful libraries for data analysis\n",
    "\n",
    "import pandas as pd\n",
    "import scipy.stats as stats\n",
    "import matplotlib.pyplot as plt\n",
    "import numpy as np"
   ]
  },
  {
   "cell_type": "code",
   "execution_count": 3,
   "id": "762ff2b1",
   "metadata": {},
   "outputs": [],
   "source": [
    "df = pd.read_csv('C_id_35_NuclearPowerAccidents2016-1.csv') "
   ]
  },
  {
   "cell_type": "code",
   "execution_count": 4,
   "id": "d4dc279d",
   "metadata": {
    "scrolled": true
   },
   "outputs": [
    {
     "data": {
      "text/html": [
       "<div>\n",
       "<style scoped>\n",
       "    .dataframe tbody tr th:only-of-type {\n",
       "        vertical-align: middle;\n",
       "    }\n",
       "\n",
       "    .dataframe tbody tr th {\n",
       "        vertical-align: top;\n",
       "    }\n",
       "\n",
       "    .dataframe thead th {\n",
       "        text-align: right;\n",
       "    }\n",
       "</style>\n",
       "<table border=\"1\" class=\"dataframe\">\n",
       "  <thead>\n",
       "    <tr style=\"text-align: right;\">\n",
       "      <th></th>\n",
       "      <th>Date</th>\n",
       "      <th>Location</th>\n",
       "      <th>Cost (millions 2013US$)</th>\n",
       "      <th>INES</th>\n",
       "      <th>Smyth Magnitude</th>\n",
       "      <th>Region</th>\n",
       "      <th>Description</th>\n",
       "      <th>Fatalities</th>\n",
       "    </tr>\n",
       "  </thead>\n",
       "  <tbody>\n",
       "    <tr>\n",
       "      <th>0</th>\n",
       "      <td>4/26/1986</td>\n",
       "      <td>Kiev, Ukraine</td>\n",
       "      <td>259336.0</td>\n",
       "      <td>7.0</td>\n",
       "      <td>8.0</td>\n",
       "      <td>EE</td>\n",
       "      <td>Mishandled reactor safety test at Chernobyl nu...</td>\n",
       "      <td>4056</td>\n",
       "    </tr>\n",
       "    <tr>\n",
       "      <th>1</th>\n",
       "      <td>3/11/2011</td>\n",
       "      <td>Fukushima Prefecture, Japan</td>\n",
       "      <td>166089.0</td>\n",
       "      <td>7.0</td>\n",
       "      <td>7.5</td>\n",
       "      <td>A</td>\n",
       "      <td>An earthquake and tsunami caused emergency bac...</td>\n",
       "      <td>573</td>\n",
       "    </tr>\n",
       "    <tr>\n",
       "      <th>2</th>\n",
       "      <td>12/8/1995</td>\n",
       "      <td>Tsuruga, Japan</td>\n",
       "      <td>15500.0</td>\n",
       "      <td>NaN</td>\n",
       "      <td>NaN</td>\n",
       "      <td>A</td>\n",
       "      <td>Japan's only fast breeder reactor Monju suffer...</td>\n",
       "      <td>0</td>\n",
       "    </tr>\n",
       "    <tr>\n",
       "      <th>3</th>\n",
       "      <td>3/28/1979</td>\n",
       "      <td>Middletown, Pennsylvania, United States</td>\n",
       "      <td>10910.0</td>\n",
       "      <td>5.0</td>\n",
       "      <td>7.9</td>\n",
       "      <td>NaN</td>\n",
       "      <td>Equipment failure and operator error contribut...</td>\n",
       "      <td>0</td>\n",
       "    </tr>\n",
       "    <tr>\n",
       "      <th>4</th>\n",
       "      <td>9/11/1957</td>\n",
       "      <td>Rocky Flats, USA</td>\n",
       "      <td>8189.0</td>\n",
       "      <td>5.0</td>\n",
       "      <td>5.2</td>\n",
       "      <td>NaN</td>\n",
       "      <td>Fire starts and destroys plutonium processing ...</td>\n",
       "      <td>0</td>\n",
       "    </tr>\n",
       "  </tbody>\n",
       "</table>\n",
       "</div>"
      ],
      "text/plain": [
       "        Date                                 Location  \\\n",
       "0  4/26/1986                            Kiev, Ukraine   \n",
       "1  3/11/2011              Fukushima Prefecture, Japan   \n",
       "2  12/8/1995                           Tsuruga, Japan   \n",
       "3  3/28/1979  Middletown, Pennsylvania, United States   \n",
       "4  9/11/1957                         Rocky Flats, USA   \n",
       "\n",
       "   Cost (millions 2013US$)  INES  Smyth Magnitude Region  \\\n",
       "0                 259336.0   7.0              8.0     EE   \n",
       "1                 166089.0   7.0              7.5      A   \n",
       "2                  15500.0   NaN              NaN      A   \n",
       "3                  10910.0   5.0              7.9    NaN   \n",
       "4                   8189.0   5.0              5.2    NaN   \n",
       "\n",
       "                                         Description  Fatalities  \n",
       "0  Mishandled reactor safety test at Chernobyl nu...        4056  \n",
       "1  An earthquake and tsunami caused emergency bac...         573  \n",
       "2  Japan's only fast breeder reactor Monju suffer...           0  \n",
       "3  Equipment failure and operator error contribut...           0  \n",
       "4  Fire starts and destroys plutonium processing ...           0  "
      ]
     },
     "execution_count": 4,
     "metadata": {},
     "output_type": "execute_result"
    }
   ],
   "source": [
    "df.head()"
   ]
  },
  {
   "cell_type": "code",
   "execution_count": 5,
   "id": "78bcf449",
   "metadata": {},
   "outputs": [],
   "source": [
    "df['Date'] = pd.to_datetime(df['Date'])\n",
    "date = pd.to_datetime('1979/3/28') \n",
    "df = df[df['Date']< date]"
   ]
  },
  {
   "cell_type": "code",
   "execution_count": 6,
   "id": "3ab441d0",
   "metadata": {},
   "outputs": [],
   "source": [
    "df = df.rename(columns={'Cost (millions 2013US$)': 'Cost'})"
   ]
  },
  {
   "cell_type": "markdown",
   "id": "bbb0a1d4",
   "metadata": {},
   "source": [
    "## Exercise 1 : Statistical model"
   ]
  },
  {
   "cell_type": "code",
   "execution_count": 7,
   "id": "b5b88cbd",
   "metadata": {
    "scrolled": true
   },
   "outputs": [
    {
     "name": "stdout",
     "output_type": "stream",
     "text": [
      "Number of observations : 55\n"
     ]
    }
   ],
   "source": [
    "## Question 1 ##\n",
    "\n",
    "df = df.dropna(subset=['Cost']) # We remove missing data\n",
    "print('Number of observations :', len(df))"
   ]
  },
  {
   "cell_type": "markdown",
   "id": "9ff59e2c",
   "metadata": {},
   "source": [
    "(2) (a) Let $X \\sim \\mathcal{N}(\\mu, \\sigma^2)$, $X = \\sigma Z + \\mu $ where $Z \\sim \\mathcal{N}(0, 1)$ and $p\\in [0,1]$, $x = F^{-1}_\\theta(p)$. \n",
    "\n",
    "We have $\\mathbb{P}(X \\leqslant x) = \\mathbb{P}(\\sigma Z + \\mu \\leqslant x) = \\mathbb{P}\\left(Z \\leqslant \\frac{x - \\mu}{\\sigma}\\right)$. Hence $F^{-1}_\\theta(p) = \\sigma F^{-1}_{(0, 1)}(p) + \\mu$"
   ]
  },
  {
   "cell_type": "code",
   "execution_count": 8,
   "id": "609ab1ca",
   "metadata": {
    "scrolled": true
   },
   "outputs": [
    {
     "data": {
      "image/png": "[encoded data removed]",
      "text/plain": [
       "<Figure size 432x288 with 1 Axes>"
      ]
     },
     "metadata": {
      "needs_background": "light"
     },
     "output_type": "display_data"
    }
   ],
   "source": [
    "## Question 2.b ##\n",
    "\n",
    "stats.probplot(df['Cost'], dist=stats.norm, plot=plt)\n",
    "plt.title('Q-Q plot for a gaussian model')\n",
    "plt.show()"
   ]
  },
  {
   "cell_type": "markdown",
   "id": "3d3da265",
   "metadata": {},
   "source": [
    "(3) (a) Let $p\\in[0,1]$, $X = \\displaystyle\\frac{Z}{\\theta}$ where $Z \\sim \\mathcal{E}(1) $ and $x = F^{-1}_\\theta(p)$. \n",
    "\n",
    "We have $\\mathbb{P}(X \\leqslant x) = \\mathbb{P}(Z \\leqslant \\theta x)$. Hence $F_{\\theta}^{-1}(p) = \\displaystyle\\frac{1}{\\theta} F_1^{-1}(p)$"
   ]
  },
  {
   "cell_type": "code",
   "execution_count": 9,
   "id": "46aa3608",
   "metadata": {
    "scrolled": true
   },
   "outputs": [
    {
     "data": {
      "image/png": "[encoded data removed]",
      "text/plain": [
       "<Figure size 432x288 with 1 Axes>"
      ]
     },
     "metadata": {
      "needs_background": "light"
     },
     "output_type": "display_data"
    }
   ],
   "source": [
    "## Question 3.b ##\n",
    "\n",
    "stats.probplot(df['Cost'], dist=stats.expon, plot=plt)\n",
    "plt.title('Q-Q plot for an exponential model')\n",
    "plt.show()"
   ]
  },
  {
   "cell_type": "markdown",
   "id": "273a8a9a",
   "metadata": {},
   "source": [
    "(4) We see that the Q-Q plot of data for a gaussian model is not a straight line (the points of the plot are far from the regression line) whereas the Q-Q plot of data for an exponential model is quite close from a straight line. Hence we can clearly suppose that the cost of nuclear accident doesn't follow a gaussian distribution. \n",
    "It's more likely that it follows an exponential distribution even if we can't be sure yet. In the next exercise, we take a look at the histogram of our data sample and we see that it actually looks like a such distribution."
   ]
  },
  {
   "cell_type": "markdown",
   "id": "4dd97450",
   "metadata": {},
   "source": [
    "## Exercise 2 : Point estimation\n",
    "\n",
    "(1) We have $\\widehat{\\theta} = \\text{argmax}_{\\theta}{p_{\\theta}(\\textbf{x})}$ where $\\textbf{x}$ are the values of the sample.\n",
    "\n",
    "Hence $\\displaystyle p_{\\theta}(\\textbf{x}) = \\prod_{k=1}^n{\\theta e^{-\\theta x_k}} = \\theta^ne^{-\\theta \\sum_{k=1}^n{x_k}}$\n",
    "\n",
    "Hence $\\displaystyle \\widehat{\\theta}(\\textbf{x}) = \\frac{n}{\\sum_{i=1}^n{x_i}}$ "
   ]
  },
  {
   "cell_type": "code",
   "execution_count": 10,
   "id": "592fad5c",
   "metadata": {
    "scrolled": false
   },
   "outputs": [
    {
     "name": "stdout",
     "output_type": "stream",
     "text": [
      "estimation of theta : 0.0013767725947156967\n"
     ]
    }
   ],
   "source": [
    "print('estimation of theta :', 1/df['Cost'].mean())"
   ]
  },
  {
   "cell_type": "code",
   "execution_count": 11,
   "id": "1d27d237",
   "metadata": {
    "scrolled": false
   },
   "outputs": [
    {
     "data": {
      "image/png": "[encoded data removed]",
      "text/plain": [
       "<Figure size 432x288 with 1 Axes>"
      ]
     },
     "metadata": {
      "needs_background": "light"
     },
     "output_type": "display_data"
    }
   ],
   "source": [
    "## Question 2 ##\n",
    "\n",
    "x = np.linspace(0, 8200, 10000)\n",
    "theta = 1/df['Cost'].mean()\n",
    "y = theta*np.exp(-theta*x)\n",
    "df.hist(column=['Cost'], bins='auto', grid=False, density=True, edgecolor=\"k\")\n",
    "plt.plot(x, y)\n",
    "plt.legend(['Exp density distribution of parameter theta', 'histogram of data in density'])\n",
    "plt.show()"
   ]
  },
  {
   "cell_type": "markdown",
   "id": "8e485bb3",
   "metadata": {},
   "source": [
    " (3) We have $\\mathbb{E}_{\\theta}(\\widehat{g}(X)) = \\displaystyle\\frac{1}{n}\\sum_{i=1}^n{\\mathbb{E}_{\\theta}(X_i)} = \\frac{1}{\\theta}$ hence $\\hat{g}$ is an efficient estimator of $g(\\theta)$"
   ]
  },
  {
   "cell_type": "code",
   "execution_count": 12,
   "id": "fbe7ea46",
   "metadata": {
    "scrolled": true
   },
   "outputs": [
    {
     "name": "stdout",
     "output_type": "stream",
     "text": [
      "estimation of g(theta) : 726.3363636363636 10^6 $\n"
     ]
    }
   ],
   "source": [
    "## Question 4 ##\n",
    "\n",
    "print('estimation of g(theta) :', df['Cost'].mean(), '10^6 $')"
   ]
  },
  {
   "cell_type": "markdown",
   "id": "20861c28",
   "metadata": {},
   "source": [
    "(5) $R(\\theta, \\widehat{g}_{\\eta}) = \\bigg(\\displaystyle\\frac{1 - \\eta}{\\theta}\\bigg)^2 + V(\\widehat{g}_{\\eta}(X))\n",
    "= \\bigg(\\displaystyle\\frac{1 - \\eta}{\\theta}\\bigg)^2 + \\frac{\\eta^2}{n\\theta^2}$\n",
    "\n",
    "$R(\\theta, \\widehat{g}) = \\displaystyle\\frac{1}{n\\theta^2}$\n",
    "\n",
    "On dérive $f(\\eta) = R(\\theta, \\hat{g}_{\\eta}) - R(\\theta, \\hat{g})$ par rapport à $\\eta$ : $f'(\\eta) = \\displaystyle\\frac{2\\eta}{n\\theta^2} - \\frac{2n(1-\\eta)}{n\\theta^2} \\geqslant 0 $\n",
    "Pour $\\eta \\geqslant\\displaystyle\\frac{n}{n+1}$\n",
    "\n",
    "Le risque $R(\\theta, \\widehat{g}_{\\eta})$ est donc plus petit que $R(\\theta, \\widehat{g})$ pour $\\eta \\in \\left[\\displaystyle\\frac{n-1}{n+1}, 1\\right]$\n",
    "\n",
    "\n",
    "\n",
    "\n",
    "(6)  La médiane d'une loi exponentielle de paramètre $\\theta$ est $\\displaystyle\\frac{ln{(2)}}{\\theta}$ \n",
    "\n",
    "Et $\\mathbb{E}(\\widehat{g}_{\\eta}) = \\displaystyle\\frac{\\eta}{\\theta}$ Ainsi, $\\widehat{g}_{\\eta}$ est un estimateur non biaisé de la médiane pour $\\eta = \\ln{(2)}$. \n",
    "En calculant $\\widehat{g}_{\\ln(2)}$ et la médiane empirique on observe une différence.\n",
    "\n",
    "(7) D'après la question (5), pour $\\frac{n-1}{n+1} \\geqslant \\ln(2)$ i.e pour $n \\geqslant \\frac{\\ln(2) + 1}{1 - \\ln(2)}$ i.e pour $n \\geqslant 6$ le risque associé à $\\widehat{g}$ est plus grand que le risque associé à $\\widehat{g}_{\\ln(2)}$."
   ]
  },
  {
   "cell_type": "code",
   "execution_count": 13,
   "id": "c6727134",
   "metadata": {
    "scrolled": true
   },
   "outputs": [
    {
     "name": "stdout",
     "output_type": "stream",
     "text": [
      "estimateur g_ln(2) : 503.45800259270857 \n",
      "médiane empirique : 89.9\n"
     ]
    }
   ],
   "source": [
    "print('estimateur g_ln(2) :', df['Cost'].mean() * np.log(2), '\\nmédiane empirique :', df['Cost'].median())"
   ]
  },
  {
   "cell_type": "markdown",
   "id": "b3e1760b",
   "metadata": {},
   "source": [
    "## Exercise 3 : Hypothesis testing\n",
    "\n",
    "\n",
    "1. The hypothesis are $H_0 = [0, 10^{-9}]$ and $H_1 = ]10^{-9}, \\infty[$\n",
    "\n",
    "2. Let $\\theta' > \\theta$ then $\\displaystyle\\frac{p_{\\theta'}(x)}{p_{\\theta}(x)} = \\theta'^n\\theta^{-n}\\prod_{k=1}^n{e^{(\\theta - \\theta')x_k}} = \\theta'^n\\theta^{-n}e^{(\\theta - \\theta')\\sum_{k=1}^n{x_k}}$ \n",
    "\n",
    "Posons $T(x) = \\sum_{k=1}^n{x_k} $. Puisque nous sommes dans le cas d'un one-tailed test et que $y \\mapsto e^{(\\theta - \\theta')y}$ est décroissante on pose : $\\delta(x) = 1_{\\{T(x) <c\\}}$\n",
    "\n",
    "3. On a $\\alpha = \\sup_{\\theta\\leqslant 10^{-9}}{\\mathbb{P}_{\\theta}\\bigg(\\displaystyle\\sum_{k=1}^n{X_k} < c\\bigg)}$ et $ \\displaystyle\\sum_{k=1}^n{X_k} \\sim \\Gamma(n, 1/\\theta)$"
   ]
  },
  {
   "cell_type": "code",
   "execution_count": 55,
   "id": "420fe948",
   "metadata": {
    "scrolled": true
   },
   "outputs": [
    {
     "data": {
      "image/png": "[encoded data removed]",
      "text/plain": [
       "<Figure size 432x288 with 1 Axes>"
      ]
     },
     "metadata": {
      "needs_background": "light"
     },
     "output_type": "display_data"
    }
   ],
   "source": [
    "#define x-axis values\n",
    "x = np.linspace (0, 10**11, 1000) \n",
    "\n",
    "#calculate pdf of Gamma distribution for each x-value\n",
    "y = stats.gamma.pdf(x, a=55, scale=10**9)\n",
    "\n",
    "#create plot of Gamma distribution\n",
    "plt.plot(x, y)\n",
    "\n",
    "#display plot\n",
    "plt.show()"
   ]
  },
  {
   "cell_type": "code",
   "execution_count": 65,
   "id": "6847c977",
   "metadata": {
    "scrolled": true
   },
   "outputs": [
    {
     "data": {
      "image/png": "[encoded data removed]",
      "text/plain": [
       "<Figure size 432x288 with 1 Axes>"
      ]
     },
     "metadata": {
      "needs_background": "light"
     },
     "output_type": "display_data"
    }
   ],
   "source": [
    "#calculate pdf of Gamma distribution for each x-value\n",
    "y = stats.gamma(a=55, scale=10**9)\n",
    "\n",
    "x_in = np.linspace(0,1,200) # 200 numbers in [0,1], input for ppf()\n",
    "y_out = y.ppf(x_in)\n",
    "plt.plot(x_in,y_out) # graphically check the results of the inverse CDF\n",
    "plt.show()"
   ]
  },
  {
   "cell_type": "code",
   "execution_count": 64,
   "id": "5eea8fde",
   "metadata": {
    "scrolled": false
   },
   "outputs": [
    {
     "name": "stdout",
     "output_type": "stream",
     "text": [
      "alpha = 0.05025125628140704 quantile = 789294460.8212315 $\n"
     ]
    }
   ],
   "source": [
    "print('alpha =', x_in[10], 'quantile =', y_out[10], '$') # 0.05-quantile pour une fonction Gamma(55, 10^-9) "
   ]
  },
  {
   "cell_type": "code",
   "execution_count": 59,
   "id": "dc46089a",
   "metadata": {
    "scrolled": true
   },
   "outputs": [
    {
     "name": "stdout",
     "output_type": "stream",
     "text": [
      "delta(x) = 1\n"
     ]
    }
   ],
   "source": [
    "## Test T(x) < c ##\n",
    "c = y_out[10]\n",
    "\n",
    "if df['Cost'].sum() * 10**6 < c :\n",
    "    print('delta(x) = 1')\n",
    "else : \n",
    "    print('delta(x) = 0')\n"
   ]
  },
  {
   "cell_type": "code",
   "execution_count": 18,
   "id": "ac4b28ae",
   "metadata": {
    "scrolled": true
   },
   "outputs": [
    {
     "data": {
      "text/plain": [
       "39948500000.0"
      ]
     },
     "execution_count": 18,
     "metadata": {},
     "output_type": "execute_result"
    }
   ],
   "source": [
    "df['Cost'].sum()*10**6"
   ]
  },
  {
   "cell_type": "markdown",
   "id": "779b17a0",
   "metadata": {},
   "source": [
    "Ici, la p-value vaut $p = \\mathbb{P}_{\\theta=10^{-9}}(T(X) \\leqslant T(x)) \n",
    "= \\mathbb{P}_{\\theta=10^{-9}}(T(X) \\leqslant 39948.5\\cdot 10^6)$"
   ]
  },
  {
   "cell_type": "code",
   "execution_count": 47,
   "id": "d2f0ea4d",
   "metadata": {
    "scrolled": true
   },
   "outputs": [
    {
     "name": "stdout",
     "output_type": "stream",
     "text": [
      "the p-value is : 0.01507537688442211\n"
     ]
    }
   ],
   "source": [
    "print('the p-value is :', x_in[3])"
   ]
  },
  {
   "cell_type": "code",
   "execution_count": 66,
   "id": "73a9d7a9",
   "metadata": {
    "scrolled": true
   },
   "outputs": [
    {
     "data": {
      "image/png": "[encoded data removed]",
      "text/plain": [
       "<Figure size 432x288 with 1 Axes>"
      ]
     },
     "metadata": {
      "needs_background": "light"
     },
     "output_type": "display_data"
    }
   ],
   "source": [
    "## Question 4 ##\n",
    "\n",
    "#define x-axis values\n",
    "x = np.linspace(0, 2*10**9, 1000) \n",
    "#calculate pdf of Gamma distribution for each x-value\n",
    "y = stats.gamma.pdf(x, a=55, scale=10**9/55)\n",
    "\n",
    "plt.plot(x, y)\n",
    "plt.fill(x,y, 'orange')\n",
    "plt.title('Density function of $\\widehat{g}(X)$')\n",
    "plt.show()"
   ]
  },
  {
   "cell_type": "markdown",
   "id": "2f639ebd",
   "metadata": {},
   "source": [
    "(4) For n = 55 samples and the parameter θ associated with an expected cost of one billion\n",
    "dollars, plot the probability density function of ̂ g(X) and show the rejection region of\n",
    "H0 at level α = 5%.\n",
    "\n",
    "(5) Plot the power of the test at level α with respect to θ for n = 10, 50, 100, 1000 samples.\n",
    "Explain the results.\n",
    "\n",
    "(6) Propose a new test using the approximation of ̂ g(X) suggested by the Central Limit\n",
    "Theorem and give the result of this test."
   ]
  },
  {
   "cell_type": "markdown",
   "id": "23ec1128",
   "metadata": {},
   "source": [
    "(5) The power of the test is $\\beta(\\theta) = \\mathbb{P}_{\\theta}(\\delta(X) = 1) = \\mathbb{P}_{\\theta}\\left(\\sum_{k=1}^n{X_k} < c\\right)$"
   ]
  },
  {
   "cell_type": "code",
   "execution_count": 60,
   "id": "1b190faa",
   "metadata": {},
   "outputs": [
    {
     "data": {
      "text/plain": [
       "43411195345.167725"
      ]
     },
     "execution_count": 60,
     "metadata": {},
     "output_type": "execute_result"
    }
   ],
   "source": [
    "c"
   ]
  }
 ],
 "metadata": {
  "kernelspec": {
   "display_name": "Python 3 (ipykernel)",
   "language": "python",
   "name": "python3"
  },
  "language_info": {
   "codemirror_mode": {
    "name": "ipython",
    "version": 3
   },
   "file_extension": ".py",
   "mimetype": "text/x-python",
   "name": "python",
   "nbconvert_exporter": "python",
   "pygments_lexer": "ipython3",
   "version": "3.9.7"
  }
 },
 "nbformat": 4,
 "nbformat_minor": 5
}
